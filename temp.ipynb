{
 "cells": [
  {
   "cell_type": "markdown",
   "metadata": {},
   "source": [
    "# Self-Driving Car Engineer Nanodegree\n",
    "\n",
    "\n",
    "## Project: Build a Traffic Sign Recognition Classifier\n",
    "\n",
    "In this project, deep neural networks and convolutional neural networks were used to classify traffic signs. I have trained and validated the model so it can classify traffic sign images using the [German Traffic Sign Dataset](http://benchmark.ini.rub.de/?section=gtsrb&subsection=dataset). After the model is trained, I then tried out my model on images of German traffic signs which I downloaded from the web."
   ]
  },
  {
   "cell_type": "markdown",
   "metadata": {},
   "source": [
    "---\n",
    "## Step 0: Load The Data"
   ]
  },
  {
   "cell_type": "code",
   "execution_count": null,
   "metadata": {},
   "outputs": [],
   "source": [
    "# Import pickle library to serialize and de-serialize the data\n",
    "import pickle\n",
    "\n",
    "# Path to training, testing and validation data\n",
    "training_filepath = '../data/train.p'\n",
    "validation_filepath='../data/valid.p'\n",
    "testing_filepath = '../data/test.p'\n",
    "\n",
    "# Load the training, testing and validation data\n",
    "with open(training_filepath, mode='rb') as f:\n",
    "    train = pickle.load(f)\n",
    "with open(validation_filepath, mode='rb') as f:\n",
    "    valid = pickle.load(f)\n",
    "with open(testing_filepath, mode='rb') as f:\n",
    "    test = pickle.load(f)\n",
    "\n",
    "# Load features (input data) and lables (output data) seperately in an array for training, testing and validation data\n",
    "X_train, y_train = train['features'], train['labels']\n",
    "X_valid, y_valid = valid['features'], valid['labels']\n",
    "X_test, y_test = test['features'], test['labels']\n",
    "\n",
    "print(X_train.shape, y_train.shape, X_test.shape, y_test.shape, X_valid.shape, y_valid.shape)"
   ]
  },
  {
   "cell_type": "markdown",
   "metadata": {},
   "source": [
    "---\n",
    "\n",
    "## Step 1: Dataset Summary & Exploration\n",
    "\n",
    "The pickled data is a dictionary with 4 key/value pairs:\n",
    "\n",
    "- `'features'` is a 4D array containing raw pixel data of the traffic sign images, (num examples, width, height, channels).\n",
    "- `'labels'` is a 1D array containing the label/class id of the traffic sign. The file `signnames.csv` contains id -> name mappings for each id.\n",
    "- `'sizes'` is a list containing tuples, (width, height) representing the original width and height the image.\n",
    "- `'coords'` is a list containing tuples, (x1, y1, x2, y2) representing coordinates of a bounding box around the sign in the image. **THESE COORDINATES ASSUME THE ORIGINAL IMAGE. THE PICKLED DATA CONTAINS RESIZED VERSIONS (32 by 32) OF THESE IMAGES**"
   ]
  },
  {
   "cell_type": "markdown",
   "metadata": {},
   "source": [
    "### Basic Summary of the Data Set Using Python, Numpy and/or Pandas"
   ]
  },
  {
   "cell_type": "code",
   "execution_count": null,
   "metadata": {},
   "outputs": [],
   "source": [
    "# Import pandas library\n",
    "import pandas as pd\n",
    "\n",
    "# Number of training examples\n",
    "train_num = len(X_train)\n",
    "\n",
    "# Number of validation examples\n",
    "validation_num = len(X_valid)\n",
    "\n",
    "# Number of testing examples.\n",
    "test_num = len(X_test)\n",
    "\n",
    "# The shape of an traffic sign image\n",
    "image_shape = X_train[0].shape\n",
    "\n",
    "# The number of unique classes/labels there are in the dataset.\n",
    "classes_num = len(pd.Series(y_train).unique())\n",
    "\n",
    "print(\"Size of the training set =\", train_num)\n",
    "print(\"Size of the validation set =\", validation_num)\n",
    "print(\"Size of the testing set =\", test_num)\n",
    "print(\"The shape of a traffic sign image =\", image_shape)\n",
    "print(\"The number of unique classes/labels in the data set is =\", classes_num)"
   ]
  },
  {
   "cell_type": "markdown",
   "metadata": {},
   "source": [
    "### Include an exploratory visualization of the dataset"
   ]
  },
  {
   "cell_type": "markdown",
   "metadata": {},
   "source": [
    "Visualize the German Traffic Signs Dataset using the pickled file(s).\n",
    "\n",
    "The [Matplotlib](http://matplotlib.org/) [examples](http://matplotlib.org/examples/index.html) and [gallery](http://matplotlib.org/gallery.html) pages are a great resource for doing visualizations in Python."
   ]
  },
  {
   "cell_type": "code",
   "execution_count": null,
   "metadata": {},
   "outputs": [],
   "source": [
    "### Data exploration visualization code goes here.\n",
    "import matplotlib.pyplot as plt\n",
    "import random\n",
    "# Visualizations will be shown in the notebook.\n",
    "%matplotlib inline\n",
    "\n",
    "# Randomly select the image from dataset and disply the image \n",
    "index = random.randint(0, len(X_train))\n",
    "image=X_train[index]\n",
    "print(y_train[index])\n",
    "plt.figure()\n",
    "plt.imshow(image)"
   ]
  },
  {
   "cell_type": "code",
   "execution_count": null,
   "metadata": {},
   "outputs": [],
   "source": [
    "# Plot the histogram of traffic sign signals for training data\n",
    "plt.hist(y_train, bins=classes_num)\n",
    "plt.title('Histogram of Traffic Sign Signals (Training set)') # Display the title \n",
    "plt.xlabel('Traffic Signs') # Display the x-axis\n",
    "plt.ylabel('Total Count')   # Display the y-axis\n",
    "plt.plot()                  # Plot the histogram\n",
    "\n",
    "# Plot the histogram of traffic sign signals for training data\n",
    "plt.hist(y_test, bins=classes_num)\n",
    "plt.title('Histogram of Traffic Sign Signals (Test set)') # Display the title \n",
    "plt.xlabel('Traffic Signs') # Display the x-axis\n",
    "plt.ylabel('Total Count')   # Display the y-axis\n",
    "plt.plot()                  # Plot the histogram\n",
    "\n",
    "# Plot the histogram of traffic sign signals for training data\n",
    "plt.hist(y_valid, bins=classes_num)\n",
    "plt.title('Histogram of Traffic Sign Signals (Validation set)') # Display the title \n",
    "plt.xlabel('Traffic Signs') # Display the x-axis\n",
    "plt.ylabel('Total Count')   # Display the y-axis\n",
    "plt.plot()                  # Plot the histogram"
   ]
  },
  {
   "cell_type": "markdown",
   "metadata": {},
   "source": [
    "### Pre-process the Data Set (normalization, grayscale, etc.)"
   ]
  },
  {
   "cell_type": "markdown",
   "metadata": {},
   "source": [
    "Initial step followed in data pre-processing is to shuffle the data. It is very important to shuffle the training data otherwise ordering of data might have huge effect on how the network trends (Neural Network training)."
   ]
  },
  {
   "cell_type": "code",
   "execution_count": null,
   "metadata": {},
   "outputs": [],
   "source": [
    "# Import library to shuffle the data\n",
    "from sklearn.utils import shuffle\n",
    "\n",
    "X_train, y_train = shuffle(X_train, y_train) # Shuffle training data\n",
    "X_valid, y_valid = shuffle(X_valid, y_valid) # Shuffle validation data\n",
    "X_test, y_test = shuffle(X_test, y_test)     # Shuffle test data"
   ]
  },
  {
   "cell_type": "markdown",
   "metadata": {},
   "source": [
    "The image data should be normalized so that the data has mean zero and equal variance. For image data, `(pixel - pixel_mean)/ (max_pixel-min_pixel)` is used to normalize the data. After normalization pixel values will be in the range -1 to +1.\n",
    "Other method used in normalizing the data is `(pixel - 128)/ 128`."
   ]
  },
  {
   "cell_type": "code",
   "execution_count": null,
   "metadata": {},
   "outputs": [],
   "source": [
    "import numpy as np\n",
    "\n",
    "#Nomralisation\n",
    "X_train = (X_train-X_train.mean())/(np.max(X_train)-np.min(X_train)) # Apply Normalization to training data\n",
    "X_valid = (X_valid-X_valid.mean())/(np.max(X_valid)-np.min(X_valid)) # Apply Normalization to validation data\n",
    "X_test = (X_test-X_test.mean())/(np.max(X_test)-np.min(X_test))      # Apply Normalization to test data\n",
    "\n",
    "print(\"Min pixel value in normalized train dataset\", np.amin(X_train[0]))\n",
    "print(\"Max pixel value in normalized train dataset\", np.amax(X_train[0]))"
   ]
  },
  {
   "cell_type": "markdown",
   "metadata": {},
   "source": [
    "### Model Architecture"
   ]
  },
  {
   "cell_type": "markdown",
   "metadata": {},
   "source": [
    "EPOCH and BATCH SIZE values affects the training speed and model accuracy.\n",
    "EPOCH variable is used to tell the TensorFlow how many times to run our training data through the network. More number of EPOCHS results in better model training but it takes longer time to train the network.\n",
    "\n",
    "BATCH_SIZE variable is used to tell the TensorFlow how many training images to run through the network at a time. If the BATCH_SIZE is larger, the model gets trained faster but our processor may have a memory limit on how large a batch it can run.\n",
    "\n",
    "#### Dimesionality\n",
    "The number of neurons of each layer in our CNN can be calculated by using below formula,\n",
    "\n",
    "output_height = [(input_height - filter_height + 2 * padding) / vertical_stride] + 1\n",
    "\n",
    "output_width = [(input_width - filter_width + 2 * padding) / vertical_stride] + 1\n",
    "\n",
    "output_depth = number of filters"
   ]
  },
  {
   "cell_type": "code",
   "execution_count": null,
   "metadata": {},
   "outputs": [],
   "source": [
    "# Import libraries\n",
    "import tensorflow as tf # Import tensorflow library\n",
    "from tensorflow.contrib.layers import flatten # Flattens the input layer\n",
    "\n",
    "EPOCHS = 40            # Number of epochs\n",
    "BATCH_SIZE = 128       # Batch size\n",
    "learning_rate = 0.001  # Learning rate tells the TensorFlow how quickly to update the network weights\n",
    "\n",
    "# Hyperparameters\n",
    "# Both these parameters relate to how we initialze our weights.\n",
    "mu = 0\n",
    "sigma = 0.1\n",
    "\n",
    "# Define LeNet architecture\n",
    "def LeNet(x): \n",
    "    \n",
    "    # Layer 1: Convolutional. Input = 32x32x3. Output = 28x28x6.\n",
    "    # Use 5X5 filter with an input depth of 3 and an output depth of 6. \n",
    "    conv1_W = tf.Variable(tf.truncated_normal(shape=(5, 5, 3, 6), mean = mu, stddev = sigma))\n",
    "    # Initialize the bias\n",
    "    conv1_b = tf.Variable(tf.zeros(6))\n",
    "    # Use conv2D function to convolve the filter over images and add bias at the end.\n",
    "    # y = x*W+b\n",
    "    conv1   = tf.nn.conv2d(x, conv1_W, strides=[1, 1, 1, 1], padding='VALID') + conv1_b\n",
    "    \n",
    "    #output_height = [(32-5+2*0)/1]+1 = 28.\n",
    "    #output_width = [(32-5+2*0)/1]+1 = 28.\n",
    "    #output_depth = filter_depth = 6\n",
    "    \n",
    "    # Activation 1.\n",
    "    conv1 = tf.nn.relu(conv1) # Activate the output of the convolutional layer using ReLU activation function\n",
    "\n",
    "    # Pooling. Input = 28x28x6. Output = 14x14x6.\n",
    "    # Pool the output using 2x2 kernel with a 2x2 stride \n",
    "    conv1 = tf.nn.max_pool(conv1, ksize=[1, 2, 2, 1], strides=[1, 2, 2, 1], padding='VALID') \n",
    "    \n",
    "    #output_height = 28/2 = 14.\n",
    "    #output_width = 28/2 = 14.\n",
    "    #output_depth = 6\n",
    "    \n",
    "    # Layer 2: Convolutional. Input = 14x14x6. Output = 10x10x16.\n",
    "    conv2_W = tf.Variable(tf.truncated_normal(shape=(5, 5, 6, 16), mean = 0, stddev = 0.1))\n",
    "    conv2_b = tf.Variable(tf.zeros(16))\n",
    "    conv2   = tf.nn.conv2d(conv1, conv2_W, strides=[1, 1, 1, 1], padding='VALID') + conv2_b\n",
    "    \n",
    "    #output_height = [(14-5+2*0)/1]+1 = 10.\n",
    "    #output_width = [(14-5+2*0)/1]+1 = 10.\n",
    "    #output_depth = filter_depth = 16\n",
    "    \n",
    "    # Activation 2.\n",
    "    conv2 = tf.nn.relu(conv2) # Activate the output of the convolutional layer using ReLU activation function\n",
    "\n",
    "    # Pooling. Input = 10x10x16. Output = 5x5x16.\n",
    "    # Pool the output using 2x2 kernel with a 2x2 stride \n",
    "    conv2 = tf.nn.max_pool(conv2, ksize=[1, 2, 2, 1], strides=[1, 2, 2, 1], padding='VALID')\n",
    "    \n",
    "    #output_height = 10/2 = 5.\n",
    "    #output_width = 10/2 = 5.\n",
    "    #output_depth = 16\n",
    "    \n",
    "    # Flatten the output into a vector. Input = 5x5x16. Output=5x5x16=400.\n",
    "    flattened   = flatten(conv2)  \n",
    "    \n",
    "     # Layer 3: Fully Connected. Input = 400. Output = 120.\n",
    "    fc1_W = tf.Variable(tf.truncated_normal(shape=(400, 120), mean = mu, stddev = sigma))\n",
    "    fc1_b = tf.Variable(tf.zeros(120))\n",
    "    fc1   = tf.matmul(flattened, fc1_W) + fc1_b\n",
    "    \n",
    "    # Fully connected layer activation 1.\n",
    "    fc1    = tf.nn.relu(fc1)\n",
    "    \n",
    "    # Layer 4: Fully Connected. Input = 120. Output = 84.\n",
    "    fc2_W  = tf.Variable(tf.truncated_normal(shape=(120, 84), mean = mu, stddev = sigma))\n",
    "    fc2_b  = tf.Variable(tf.zeros(84))\n",
    "    fc2    = tf.matmul(fc1, fc2_W) + fc2_b\n",
    "    \n",
    "    # Full connected layer activation 2.\n",
    "    fc2    = tf.nn.relu(fc2)\n",
    "    \n",
    "    # Layer 5: Fully Connected. Input = 84. Output = 43.\n",
    "    # Set the output with a width equal to number of classes in our label set. These outrputs are called as logits.\n",
    "    fc3_W  = tf.Variable(tf.truncated_normal(shape=(84, 43), mean = mu, stddev = sigma))\n",
    "    fc3_b  = tf.Variable(tf.zeros(43))\n",
    "    logits = tf.matmul(fc2, fc3_W) + fc3_b\n",
    "    \n",
    "    return logits"
   ]
  },
  {
   "cell_type": "markdown",
   "metadata": {},
   "source": [
    "### Features and Labels"
   ]
  },
  {
   "cell_type": "code",
   "execution_count": null,
   "metadata": {},
   "outputs": [],
   "source": [
    "# x is a placeholder that will store our input batches\n",
    "# batch_size=None allows the placeholder to later accept the batch of any size\n",
    "# set the image dimensions to 32x32x3\n",
    "# In this case, our labels come through sparse variables, which means they are integers. They are not one-hot encoded yet.\n",
    "x = tf.placeholder(tf.float32, (None, 32, 32, 3))\n",
    "# y is a placeholder that will store our output batches (y stores the labels)\n",
    "y = tf.placeholder(tf.int32, (None))\n",
    "\n",
    "# One-hot encode the labels\n",
    "one_hot_y = tf.one_hot(y, 43) # Number of outputs = 43"
   ]
  },
  {
   "cell_type": "markdown",
   "metadata": {},
   "source": [
    "### Training Pipeline\n",
    "Create a training pipeline that uses the model to classify traffic sign images."
   ]
  },
  {
   "cell_type": "code",
   "execution_count": null,
   "metadata": {},
   "outputs": [],
   "source": [
    "# Pass the input data to the LeNet function to calculate our logits\n",
    "logits = LeNet(x)\n",
    "\n",
    "# 'tf.nn.softmax_cross_entropy_with_logits' function is used to compare the logits to the ground truth training labels and \n",
    "# calculate the cross entropy. Cross Entropy is just a measure of how different the logits are from the ground truth training labels.\n",
    "cross_entropy = tf.nn.softmax_cross_entropy_with_logits(labels=one_hot_y, logits=logits)\n",
    "\n",
    "# 'tf.reduce_mean' function averages the cross entropy from all of the training images\n",
    "loss_operation = tf.reduce_mean(cross_entropy)\n",
    "\n",
    "# Adam Optimizer uses the Adam algorithm to minimize the loss function using learning rate.\n",
    "optimizer = tf.train.AdamOptimizer(learning_rate = learning_rate)\n",
    "\n",
    "# Run the minimize function on the optimizer which uses back-propagation to update the network and minimize our training loss.\n",
    "training_operation = optimizer.minimize(loss_operation)"
   ]
  },
  {
   "cell_type": "markdown",
   "metadata": {},
   "source": [
    "### Model Evaluation\n",
    "Evaluate how well the model the loss and accuracy of the model for a given dataset.\n",
    "\n",
    "A validation set can be used to assess how well the model is performing. A low accuracy on the training and validation\n",
    "sets imply underfitting. A high accuracy on the training set but low accuracy on the validation set implies overfitting."
   ]
  },
  {
   "cell_type": "code",
   "execution_count": null,
   "metadata": {},
   "outputs": [],
   "source": [
    "# Measure whether given prediction is correct by comparing logit prediction to the one-hot encoded ground truth label.\n",
    "correct_prediction = tf.equal(tf.argmax(logits, 1), tf.argmax(one_hot_y, 1))\n",
    "\n",
    "# Calculte the model's overall accuracy by averaging the individual prediction accuracies.\n",
    "accuracy_operation = tf.reduce_mean(tf.cast(correct_prediction, tf.float32))\n",
    "\n",
    "saver = tf.train.Saver()\n",
    "\n",
    "def evaluate(X_data, y_data):\n",
    "    num_examples = len(X_data)\n",
    "    total_accuracy = 0\n",
    "    total_loss = 0\n",
    "    sess = tf.get_default_session()\n",
    "    # Break the training data into batches and train the model on each batch.\n",
    "    for offset in range(0, num_examples, BATCH_SIZE):\n",
    "        batch_x, batch_y = X_data[offset:offset+BATCH_SIZE], y_data[offset:offset+BATCH_SIZE] # batch the dataset\n",
    "        loss, accuracy = sess.run([loss_operation, accuracy_operation], feed_dict={x: batch_x, y: batch_y}) # run through evaluation pipeline\n",
    "        total_accuracy += (accuracy * len(batch_x)) # Calculate the avarage accuracy of each batch to calculate the total accuracy of the model\n",
    "        total_loss += (loss * len(batch_x))\n",
    "    return total_accuracy/num_examples"
   ]
  },
  {
   "cell_type": "markdown",
   "metadata": {},
   "source": [
    "### Train the Model\n",
    "Run the training data through the training pipeline to train the model.\n",
    "\n",
    "Before each epoch shuffle the training set to ensure that our training is not biased by the order of the images.\n",
    "\n",
    "Break the training data into batches and train the model on each batch.\n",
    "\n",
    "At the end of each epoch, we evaluate the model on our validation data.\n",
    "\n",
    "Once we have completly trained the model, save it. We can load it later or modify it or evaluate our model on test datset."
   ]
  },
  {
   "cell_type": "code",
   "execution_count": null,
   "metadata": {},
   "outputs": [],
   "source": [
    "# Create TensorFlow session and initialize variables\n",
    "with tf.Session() as sess:\n",
    "    sess.run(tf.global_variables_initializer())\n",
    "    num_examples = len(X_train)\n",
    "    \n",
    "    print(\"Training...\")\n",
    "    print()\n",
    "    # Train over 'N' number of epochs\n",
    "    for i in range(EPOCHS):\n",
    "        # Before each epoch shuffle the training set.\n",
    "        X_train, y_train = shuffle(X_train, y_train)\n",
    "        # Break the training data into batches and train the model on each batch.\n",
    "        for offset in range(0, num_examples, BATCH_SIZE):\n",
    "            end = offset + BATCH_SIZE\n",
    "            batch_x, batch_y = X_train[offset:end], y_train[offset:end]\n",
    "            sess.run(training_operation, feed_dict={x: batch_x, y: batch_y})\n",
    "        \n",
    "        # At the end of each epoch, we evaluate the model on our validation data\n",
    "        validation_accuracy = evaluate(X_valid, y_valid)\n",
    "        print(\"EPOCH {} ...\".format(i+1))\n",
    "        print(\"Validation Accuracy = {:.3f}\".format(validation_accuracy))\n",
    "        print()\n",
    "    \n",
    "    # Save the model after the completion of training.\n",
    "    saver.save(sess, './lenet')\n",
    "    print(\"Model saved\")"
   ]
  },
  {
   "cell_type": "markdown",
   "metadata": {},
   "source": [
    "As we train the model, we see that validation accuracy starts off really high and stays there. This is the result of the powerful Convolutional Network Acrchitecture LeNet and because of the choice hyperparameters."
   ]
  },
  {
   "cell_type": "markdown",
   "metadata": {},
   "source": [
    "### Evalute the Model\n",
    "Evalate the performance of the model on test set. This has to be done only once after the completion of training. Otherwise, we would be using the test dataset to choose the best model and then the test dataset would not provide a good estimate of how well the model would do in the real world."
   ]
  },
  {
   "cell_type": "code",
   "execution_count": null,
   "metadata": {},
   "outputs": [],
   "source": [
    "with tf.Session() as sess:\n",
    "    saver.restore(sess, tf.train.latest_checkpoint('.'))\n",
    "    test_accuracy = evaluate(X_test, y_test)\n",
    "    print(\"Test Accuracy = {:.3f}\".format(test_accuracy))"
   ]
  },
  {
   "cell_type": "markdown",
   "metadata": {},
   "source": [
    "---\n",
    "\n",
    "## Step 3: Test a Model on New Images\n",
    "\n",
    "To give more insight into how the model is working, five pictures of German traffic signs are downloded from the web and the model is used to predict the traffic sign type.\n",
    "\n",
    "We can find `signnames.csv` useful as it contains mappings from the class id (integer) to the actual sign name."
   ]
  },
  {
   "cell_type": "markdown",
   "metadata": {},
   "source": [
    "### Load and Output the Images"
   ]
  },
  {
   "cell_type": "code",
   "execution_count": null,
   "metadata": {},
   "outputs": [],
   "source": [
    "### Import the libraries\n",
    "import matplotlib.pyplot as plt\n",
    "import matplotlib.image as mpimg\n",
    "import cv2\n",
    "\n",
    "# List of test images\n",
    "#test_images = ['test_images/test_image1.jpg', 'test_images/test_image2.jpg', 'test_images/test_image3.jpg', 'test_images/test_image4.jpg', 'test_images/test_image5.jpg']\n",
    "\n",
    "x_test_images = ['test_images/1.png', 'test_images/2.png', 'test_images/3.png', 'test_images/4.png', 'test_images/5.png']\n",
    "y_new_test = np.array([11,12,1,25,38])\n",
    "\n",
    "# Plot all the 5 test images\n",
    "#for i in range(0,len(test_images)):\n",
    "#    img = mpimg.imread(test_images[i])\n",
    "#    plt.imshow(img)\n",
    "#    plt.figure()\n",
    "\n",
    "imgs = []\n",
    "    \n",
    "for i in range(0,len(x_test_images)):\n",
    "    img = mpimg.imread(x_test_images[i])\n",
    "    imgs.append(cv2.cvtColor(cv2.imread(x_test_images[i]), cv2.COLOR_BGR2RGB))\n",
    "    plt.imshow(img)\n",
    "    plt.figure()\n",
    "\n",
    "X_new_test =  np.asarray(imgs)    "
   ]
  },
  {
   "cell_type": "code",
   "execution_count": null,
   "metadata": {},
   "outputs": [],
   "source": [
    "# Normalize the test data\n",
    "X_new_test = (X_new_test-X_new_test.mean())/(np.max(X_new_test)-np.min(X_new_test))"
   ]
  },
  {
   "cell_type": "markdown",
   "metadata": {},
   "source": [
    "### Predict the Sign Type for Each Image"
   ]
  },
  {
   "cell_type": "code",
   "execution_count": null,
   "metadata": {},
   "outputs": [],
   "source": [
    "### Run the predictions here and use the model to output the prediction for each image.\n",
    "# set the batch size to 64\n",
    "batch_size = 64\n",
    "result = None\n",
    "\n",
    "# Read the sign id and name from csv file\n",
    "sign_names = pd.read_csv('signnames.csv', names=['id', 'name'], header=0)\n",
    "\n",
    "# Function to evaluate the prediction\n",
    "def evaluate_prediction(X_new_test, batch_size):\n",
    "    steps_per_epoch = len(X_new_test) // batch_size + (len(X_new_test)%batch_size > 0)\n",
    "    sess = tf.get_default_session()\n",
    "    predictions = np.zeros((len(X_new_test), classes_num))\n",
    "    for step in range(steps_per_epoch):\n",
    "        batch_x = X_new_test[step*batch_size:(step+1)*batch_size]\n",
    "        batch_y = np.zeros((len(batch_x), classes_num))\n",
    "        prediction = sess.run(tf.nn.softmax(logits), feed_dict={x: batch_x})\n",
    "        predictions[step*batch_size:(step+1)*batch_size] = prediction\n",
    "    return predictions\n",
    "\n",
    "# Create tensorflow session\n",
    "with tf.Session() as sess:\n",
    "    # Restore the model which was saved earlier\n",
    "    saver.restore(sess, tf.train.latest_checkpoint('.'))\n",
    "    prediction = evaluate_prediction(X_new_test, batch_size)\n",
    "    result = sess.run(tf.nn.top_k(tf.constant(prediction),k=5))\n",
    "    values, indices = result\n",
    "    for each in indices:\n",
    "        print('{} -- {}'.format(each[0], sign_names.name[each[0]]))\n"
   ]
  },
  {
   "cell_type": "markdown",
   "metadata": {},
   "source": [
    "### Analyze Performance"
   ]
  },
  {
   "cell_type": "code",
   "execution_count": null,
   "metadata": {},
   "outputs": [],
   "source": [
    "### Calculate the accuracy for these 5 new images. \n",
    "### For example, if the model predicted 1 out of 5 signs correctly, it's 20% accurate on these new images.\n",
    "\n",
    "with tf.Session() as sess:\n",
    "    saver.restore(sess, tf.train.latest_checkpoint('.'))\n",
    "\n",
    "    accuracy = sess.run(accuracy_operation, feed_dict={\n",
    "        x: X_new_test,\n",
    "        y: y_new_test,\n",
    "    })\n",
    "\n",
    "    print('Accuracy: {:.6f}'.format(accuracy))"
   ]
  },
  {
   "cell_type": "markdown",
   "metadata": {},
   "source": [
    "### Output Top 5 Softmax Probabilities For Each Image Found on the Web"
   ]
  },
  {
   "cell_type": "markdown",
   "metadata": {},
   "source": [
    "For each of the new images, print out the model's softmax probabilities to show the **certainty** of the model's predictions (limit the output to the top 5 probabilities for each image). [`tf.nn.top_k`](https://www.tensorflow.org/versions/r0.12/api_docs/python/nn.html#top_k) could prove helpful here. \n",
    "\n",
    "The example below demonstrates how tf.nn.top_k can be used to find the top k predictions for each image.\n",
    "\n",
    "`tf.nn.top_k` will return the values and indices (class ids) of the top k predictions. So if k=3, for each sign, it'll return the 3 largest probabilities (out of a possible 43) and the correspoding class ids.\n",
    "\n",
    "Take this numpy array as an example. The values in the array represent predictions. The array contains softmax probabilities for five candidate images with six possible classes. `tf.nn.top_k` is used to choose the three classes with the highest probability:\n",
    "\n",
    "```\n",
    "# (5, 6) array\n",
    "a = np.array([[ 0.24879643,  0.07032244,  0.12641572,  0.34763842,  0.07893497,\n",
    "         0.12789202],\n",
    "       [ 0.28086119,  0.27569815,  0.08594638,  0.0178669 ,  0.18063401,\n",
    "         0.15899337],\n",
    "       [ 0.26076848,  0.23664738,  0.08020603,  0.07001922,  0.1134371 ,\n",
    "         0.23892179],\n",
    "       [ 0.11943333,  0.29198961,  0.02605103,  0.26234032,  0.1351348 ,\n",
    "         0.16505091],\n",
    "       [ 0.09561176,  0.34396535,  0.0643941 ,  0.16240774,  0.24206137,\n",
    "         0.09155967]])\n",
    "```\n",
    "\n",
    "Running it through `sess.run(tf.nn.top_k(tf.constant(a), k=3))` produces:\n",
    "\n",
    "```\n",
    "TopKV2(values=array([[ 0.34763842,  0.24879643,  0.12789202],\n",
    "       [ 0.28086119,  0.27569815,  0.18063401],\n",
    "       [ 0.26076848,  0.23892179,  0.23664738],\n",
    "       [ 0.29198961,  0.26234032,  0.16505091],\n",
    "       [ 0.34396535,  0.24206137,  0.16240774]]), indices=array([[3, 0, 5],\n",
    "       [0, 1, 4],\n",
    "       [0, 5, 1],\n",
    "       [1, 3, 5],\n",
    "       [1, 4, 3]], dtype=int32))\n",
    "```\n",
    "\n",
    "Looking just at the first row we get `[ 0.34763842,  0.24879643,  0.12789202]`, you can confirm these are the 3 largest probabilities in `a`. You'll also notice `[3, 0, 5]` are the corresponding indices."
   ]
  },
  {
   "cell_type": "code",
   "execution_count": null,
   "metadata": {},
   "outputs": [],
   "source": [
    "### Print out the top five softmax probabilities for the predictions on the German traffic sign images found on the web. \n",
    "for i, img in enumerate(X_new_test):\n",
    "    print(\"Values:\")\n",
    "    for j in values[i]:\n",
    "        print('{:.6f}'.format(j))\n",
    "    print(\"Indices:\")\n",
    "    for j in indices[i]:\n",
    "        print('{}: {}'.format(j, sign_names.name[j]))\n",
    "    print(\"##############################################\")\n",
    "    print(\"##############################################\")"
   ]
  },
  {
   "cell_type": "markdown",
   "metadata": {},
   "source": [
    "### Project Writeup\n",
    "\n",
    "Once you have completed the code implementation, document your results in a project writeup using this [template](https://github.com/udacity/CarND-Traffic-Sign-Classifier-Project/blob/master/writeup_template.md) as a guide. The writeup can be in a markdown or pdf file. "
   ]
  },
  {
   "cell_type": "markdown",
   "metadata": {},
   "source": [
    "> **Note**: Once you have completed all of the code implementations and successfully answered each question above, you may finalize your work by exporting the iPython Notebook as an HTML document. You can do this by using the menu above and navigating to  \\n\",\n",
    "    \"**File -> Download as -> HTML (.html)**. Include the finished document along with this notebook as your submission."
   ]
  },
  {
   "cell_type": "markdown",
   "metadata": {},
   "source": [
    "---\n",
    "\n",
    "## Step 4 (Optional): Visualize the Neural Network's State with Test Images\n",
    "\n",
    " This Section is not required to complete but acts as an additional excersise for understaning the output of a neural network's weights. While neural networks can be a great learning device they are often referred to as a black box. We can understand what the weights of a neural network look like better by plotting their feature maps. After successfully training your neural network you can see what it's feature maps look like by plotting the output of the network's weight layers in response to a test stimuli image. From these plotted feature maps, it's possible to see what characteristics of an image the network finds interesting. For a sign, maybe the inner network feature maps react with high activation to the sign's boundary outline or to the contrast in the sign's painted symbol.\n",
    "\n",
    " Provided for you below is the function code that allows you to get the visualization output of any tensorflow weight layer you want. The inputs to the function should be a stimuli image, one used during training or a new one you provided, and then the tensorflow variable name that represents the layer's state during the training process, for instance if you wanted to see what the [LeNet lab's](https://classroom.udacity.com/nanodegrees/nd013/parts/fbf77062-5703-404e-b60c-95b78b2f3f9e/modules/6df7ae49-c61c-4bb2-a23e-6527e69209ec/lessons/601ae704-1035-4287-8b11-e2c2716217ad/concepts/d4aca031-508f-4e0b-b493-e7b706120f81) feature maps looked like for it's second convolutional layer you could enter conv2 as the tf_activation variable.\n",
    "\n",
    "For an example of what feature map outputs look like, check out NVIDIA's results in their paper [End-to-End Deep Learning for Self-Driving Cars](https://devblogs.nvidia.com/parallelforall/deep-learning-self-driving-cars/) in the section Visualization of internal CNN State. NVIDIA was able to show that their network's inner weights had high activations to road boundary lines by comparing feature maps from an image with a clear path to one without. Try experimenting with a similar test to show that your trained network's weights are looking for interesting features, whether it's looking at differences in feature maps from images with or without a sign, or even what feature maps look like in a trained network vs a completely untrained one on the same sign image.\n",
    "\n",
    "<figure>\n",
    " <img src=\"visualize_cnn.png\" width=\"380\" alt=\"Combined Image\" />\n",
    " <figcaption>\n",
    " <p></p> \n",
    " <p style=\"text-align: center;\"> Your output should look something like this (above)</p> \n",
    " </figcaption>\n",
    "</figure>\n",
    " <p></p> \n"
   ]
  },
  {
   "cell_type": "code",
   "execution_count": null,
   "metadata": {},
   "outputs": [],
   "source": [
    "### Visualize your network's feature maps here.\n",
    "### Feel free to use as many code cells as needed.\n",
    "\n",
    "# image_input: the test image being fed into the network to produce the feature maps\n",
    "# tf_activation: should be a tf variable name used during your training procedure that represents the calculated state of a specific weight layer\n",
    "# activation_min/max: can be used to view the activation contrast in more detail, by default matplot sets min and max to the actual min and max values of the output\n",
    "# plt_num: used to plot out multiple different weight feature map sets on the same block, just extend the plt number for each new feature map entry\n",
    "\n",
    "def outputFeatureMap(image_input, tf_activation, activation_min=-1, activation_max=-1 ,plt_num=1):\n",
    "    # Here make sure to preprocess your image_input in a way your network expects\n",
    "    # with size, normalization, ect if needed\n",
    "    # image_input =\n",
    "    # Note: x should be the same name as your network's tensorflow data placeholder variable\n",
    "    # If you get an error tf_activation is not defined it may be having trouble accessing the variable from inside a function\n",
    "    activation = tf_activation.eval(session=sess,feed_dict={x : image_input})\n",
    "    featuremaps = activation.shape[3]\n",
    "    plt.figure(plt_num, figsize=(15,15))\n",
    "    for featuremap in range(featuremaps):\n",
    "        plt.subplot(6,8, featuremap+1) # sets the number of feature maps to show on each row and column\n",
    "        plt.title('FeatureMap ' + str(featuremap)) # displays the feature map number\n",
    "        if activation_min != -1 & activation_max != -1:\n",
    "            plt.imshow(activation[0,:,:, featuremap], interpolation=\"nearest\", vmin =activation_min, vmax=activation_max, cmap=\"gray\")\n",
    "        elif activation_max != -1:\n",
    "            plt.imshow(activation[0,:,:, featuremap], interpolation=\"nearest\", vmax=activation_max, cmap=\"gray\")\n",
    "        elif activation_min !=-1:\n",
    "            plt.imshow(activation[0,:,:, featuremap], interpolation=\"nearest\", vmin=activation_min, cmap=\"gray\")\n",
    "        else:\n",
    "            plt.imshow(activation[0,:,:, featuremap], interpolation=\"nearest\", cmap=\"gray\")"
   ]
  }
 ],
 "metadata": {
  "anaconda-cloud": {},
  "kernelspec": {
   "display_name": "Python 3",
   "language": "python",
   "name": "python3"
  },
  "language_info": {
   "codemirror_mode": {
    "name": "ipython",
    "version": 3
   },
   "file_extension": ".py",
   "mimetype": "text/x-python",
   "name": "python",
   "nbconvert_exporter": "python",
   "pygments_lexer": "ipython3",
   "version": "3.6.3"
  }
 },
 "nbformat": 4,
 "nbformat_minor": 1
}
